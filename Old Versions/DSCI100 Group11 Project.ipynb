{
 "cells": [
  {
   "cell_type": "markdown",
   "id": "e8fc0cba-7dc4-45d5-89a4-0f8cc8d35e83",
   "metadata": {},
   "source": [
    "## DSCI 100 Group 11 Project ## "
   ]
  },
  {
   "cell_type": "markdown",
   "id": "b247153e-1eca-4c7e-83ff-c526b37af087",
   "metadata": {},
   "source": [
    "Authors: Ishita Sharma (66518101), Eric Haung, Yunfeng Bu, Andrew Liu "
   ]
  },
  {
   "cell_type": "markdown",
   "id": "edecc9cb-68ac-4bb7-9af2-f499180c002c",
   "metadata": {},
   "source": [
    "### Introduction ###\n",
    "\n",
    "The objective of this project is to understand user behaviour when playing video games such as MineCraft. By understanding how users interact with the game, researchers can make adjustments that better serve the user. With this information they can also work on strategies to improve recruitment and create better experiences for the user. This will in turn keep users subscribed to the game for longer. The University of British Columbia’s Computer Science research team is using MineCraft to collect real-world data from users playing the game. For this project, we will be working on answering which kinds of players are most likely to contribute a large amount of data. The goal is to develop a model that can identify which players are most likely to engage heavily with the MineCraft server\n",
    "\n",
    "We will be using two datasets for this project, which we will combine into one dataset. The first one is the Players dataset which provides the following information; name, gender, age, experience level, subscription status, hashed email of user, number of played hours, player ID, and an organization name. The second dataset is the Sessions dataset which provides the following information; the users hashed email, start and end time, and original start and end time. To answer our specific question we will be using a variable that includes the total played hours as a response variable. And then our explanatory variable will include gender, experience, age, subscription status, and played hours. We will be combining the dataset by using a common variable which is the Hashed Email. \n",
    "\n"
   ]
  },
  {
   "cell_type": "markdown",
   "id": "85b208e9-691b-4595-905e-b1dffb1fe693",
   "metadata": {},
   "source": [
    "\n"
   ]
  },
  {
   "cell_type": "markdown",
   "id": "687dfdaa-d552-4b6a-afce-1c4b8a57d1a4",
   "metadata": {},
   "source": [
    "### Methods ### "
   ]
  },
  {
   "cell_type": "markdown",
   "id": "a75adf25-dbab-45a0-a1c1-d941fbb10a9e",
   "metadata": {},
   "source": [
    "\n",
    "\n",
    "To start answering our question, we loaded two datasets; Players and Sessions. We proceeded to wrangle our datasets by cleaning them into tidy format, filtering for necessary variables, and then transforming them into a combined dataset. \n",
    "\n",
    "##### Sessions Dataset: \n",
    "We converted start_time and end_time into datetime format. And calculated the session durations in minutes. Lastly we pooled the data to compute the total play duration and frequency of sessions for each user. \n",
    "\n",
    "##### Players Dataset: \n",
    "We removed any unnecessary column such as individualID and organizationName. Then converted categorical variables into factor variables (experience, subscribe, and gender). And lastly filtered out any data points that did not include \n",
    "\n",
    "##### Combined Dataset: \n",
    "We combined these two datasets by use of the common variable; hashedEmail to understand how demographic factors were correlated to the player engagement. \n",
    "\n",
    "\n",
    "##### Classification Model: \n",
    "We used the classification model to categorize players based on their engagement levels in terms of played hours. For this model we transformed the played_hours variable into a categorical variable. \n",
    "Try (0-1 hrs): Minimal engagement \n",
    "Play (1-4 hrs): Moderate engagement \n",
    "Enjoy (4+ hrs): High engagement \n",
    "The classification model will demonstrate the demographic characteristics that are associated with players in each engagement category. By predicting the likelihood of a player falling into a specific category, the model can pinpoint who to target for recruitment efforts. \n",
    "\n",
    "##### Regression Model: \n",
    "We also used the regression model to predict the exact amount of played hours a user might contribute to based on demographic characteristics. This model can output a continuous prediction of played hours, allowing for a precise measurement of how long a player is engaging with the game. It can also help quantify the impact of explanatory variables on the played hours. \n"
   ]
  },
  {
   "cell_type": "code",
   "execution_count": null,
   "id": "ce8a96ba-dec3-4108-9f98-d5987eff6488",
   "metadata": {},
   "outputs": [],
   "source": []
  },
  {
   "cell_type": "code",
   "execution_count": null,
   "id": "372ce77a-7239-479f-abb9-01dc42b3515d",
   "metadata": {},
   "outputs": [],
   "source": []
  }
 ],
 "metadata": {
  "kernelspec": {
   "display_name": "R",
   "language": "R",
   "name": "ir"
  },
  "language_info": {
   "codemirror_mode": "r",
   "file_extension": ".r",
   "mimetype": "text/x-r-source",
   "name": "R",
   "pygments_lexer": "r",
   "version": "4.3.3"
  }
 },
 "nbformat": 4,
 "nbformat_minor": 5
}
