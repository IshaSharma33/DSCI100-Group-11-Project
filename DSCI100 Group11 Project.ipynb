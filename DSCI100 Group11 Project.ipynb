{
 "cells": [
  {
   "cell_type": "markdown",
   "id": "e8fc0cba-7dc4-45d5-89a4-0f8cc8d35e83",
   "metadata": {},
   "source": [
    "## DSCI 100 Group 11 Project ## "
   ]
  },
  {
   "cell_type": "markdown",
   "id": "b247153e-1eca-4c7e-83ff-c526b37af087",
   "metadata": {},
   "source": [
    "Authors: Ishita Sharma (66518101), Eric Haung, Yunfeng Bu, Andrew Liu "
   ]
  },
  {
   "cell_type": "markdown",
   "id": "edecc9cb-68ac-4bb7-9af2-f499180c002c",
   "metadata": {},
   "source": [
    "# Introduction #\n",
    "\n",
    "The objective of this project is to understand user behaviour when playing video games such as MineCraft. By understanding how users interact with the game, researchers can make adjustments that better serve the user. With this information they can also work on strategies to improve recruitment and create better experiences for the user. This will in turn keep users subscribed to the game for longer. The University of British Columbia’s Computer Science research team is using MineCraft to collect real-world data from users playing the game. For this project, we will be working on answering which kinds of players are most likely to contribute a large amount of data. The goal is to develop a model that can identify which players are most likely to engage heavily with the MineCraft server"
   ]
  },
  {
   "cell_type": "markdown",
   "id": "85b208e9-691b-4595-905e-b1dffb1fe693",
   "metadata": {},
   "source": [
    "\n"
   ]
  },
  {
   "cell_type": "code",
   "execution_count": null,
   "id": "f9e7f11b-1a02-45f1-8c4c-aea09e28ac4a",
   "metadata": {},
   "outputs": [],
   "source": []
  }
 ],
 "metadata": {
  "kernelspec": {
   "display_name": "R",
   "language": "R",
   "name": "ir"
  },
  "language_info": {
   "codemirror_mode": "r",
   "file_extension": ".r",
   "mimetype": "text/x-r-source",
   "name": "R",
   "pygments_lexer": "r",
   "version": "4.3.3"
  }
 },
 "nbformat": 4,
 "nbformat_minor": 5
}
